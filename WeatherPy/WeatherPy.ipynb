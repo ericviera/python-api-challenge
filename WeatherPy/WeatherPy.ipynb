{
 "cells": [
  {
   "cell_type": "markdown",
   "metadata": {},
   "source": [
    "# WeatherPy\n",
    "----\n",
    "\n",
    "#### Note\n",
    "* Instructions have been included for each segment. You do not have to follow them exactly, but they are included to help you think through the steps."
   ]
  },
  {
   "cell_type": "code",
   "execution_count": 71,
   "metadata": {
    "scrolled": true
   },
   "outputs": [],
   "source": [
    "# Dependencies and Setup\n",
    "import matplotlib.pyplot as plt\n",
    "import pandas as pd\n",
    "import numpy as np\n",
    "import requests\n",
    "import time\n",
    "from scipy.stats import linregress\n",
    "\n",
    "# Import API key\n",
    "from api_keys import weather_api_key\n",
    "\n",
    "# Incorporated citipy to determine city based on latitude and longitude\n",
    "from citipy import citipy\n",
    "\n",
    "# Output File (CSV)\n",
    "output_data_file = \"output_data/cities.csv\"\n",
    "\n",
    "# Range of latitudes and longitudes\n",
    "lat_range = (-90, 90)\n",
    "lng_range = (-180, 180)"
   ]
  },
  {
   "cell_type": "markdown",
   "metadata": {},
   "source": [
    "## Generate Cities List"
   ]
  },
  {
   "cell_type": "code",
   "execution_count": 72,
   "metadata": {},
   "outputs": [
    {
     "data": {
      "text/plain": [
       "593"
      ]
     },
     "execution_count": 72,
     "metadata": {},
     "output_type": "execute_result"
    }
   ],
   "source": [
    "# List for holding lat_lngs and cities\n",
    "lat_lngs = []\n",
    "cities = []\n",
    "\n",
    "# Create a set of random lat and lng combinations\n",
    "lats = np.random.uniform(lat_range[0], lat_range[1], size=1500)\n",
    "lngs = np.random.uniform(lng_range[0], lng_range[1], size=1500)\n",
    "lat_lngs = zip(lats, lngs)\n",
    "\n",
    "# Identify nearest city for each lat, lng combination\n",
    "for lat_lng in lat_lngs:\n",
    "    city = citipy.nearest_city(lat_lng[0], lat_lng[1]).city_name\n",
    "    \n",
    "    # If the city is unique, then add it to a our cities list\n",
    "    if city not in cities:\n",
    "        cities.append(city)\n",
    "\n",
    "# Print the city count to confirm sufficient count\n",
    "len(cities)\n"
   ]
  },
  {
   "cell_type": "markdown",
   "metadata": {},
   "source": [
    "### Perform API Calls\n",
    "* Perform a weather check on each city using a series of successive API calls.\n",
    "* Include a print log of each city as it'sbeing processed (with the city number and city name).\n"
   ]
  },
  {
   "cell_type": "code",
   "execution_count": 73,
   "metadata": {},
   "outputs": [
    {
     "name": "stdout",
     "output_type": "stream",
     "text": [
      "Beginning Data Retrieval\n",
      "-----------------------------\n",
      "City not found. Skipping...\n",
      "Processing Record 0| kapaa\n",
      "Processing Record 1| katangli\n",
      "Processing Record 2| constitucion\n",
      "Processing Record 3| mattru\n",
      "Processing Record 4| port alfred\n",
      "Processing Record 5| rawson\n",
      "Processing Record 6| jamestown\n",
      "Processing Record 7| ushuaia\n",
      "Processing Record 8| tuatapere\n",
      "Processing Record 9| punta arenas\n",
      "Processing Record 10| basco\n",
      "Processing Record 11| new norfolk\n",
      "Processing Record 12| ponta do sol\n",
      "Processing Record 13| port hardy\n",
      "Processing Record 14| bluff\n",
      "Processing Record 15| qaanaaq\n",
      "Processing Record 16| mataura\n",
      "Processing Record 17| forestville\n",
      "Processing Record 18| rikitea\n",
      "Processing Record 19| vaini\n",
      "Processing Record 20| nikolskoye\n",
      "Processing Record 21| yellowknife\n",
      "Processing Record 22| ust-omchug\n",
      "Processing Record 23| port maria\n",
      "Processing Record 24| severo-kurilsk\n",
      "Processing Record 25| vardo\n",
      "City not found. Skipping...\n",
      "Processing Record 26| butaritari\n",
      "Processing Record 27| georgetown\n",
      "City not found. Skipping...\n",
      "Processing Record 28| sitka\n",
      "Processing Record 29| ribeira grande\n",
      "Processing Record 30| kodiak\n",
      "Processing Record 31| vestmannaeyjar\n",
      "Processing Record 32| suarez\n",
      "Processing Record 33| chuy\n",
      "Processing Record 34| chokurdakh\n",
      "City not found. Skipping...\n",
      "City not found. Skipping...\n",
      "Processing Record 35| rapid valley\n",
      "Processing Record 36| tasiilaq\n",
      "Processing Record 37| mafinga\n",
      "City not found. Skipping...\n",
      "Processing Record 38| cape town\n",
      "City not found. Skipping...\n",
      "Processing Record 39| codrington\n",
      "City not found. Skipping...\n",
      "Processing Record 40| inirida\n",
      "Processing Record 41| busselton\n",
      "Processing Record 42| san cristobal\n",
      "Processing Record 43| hermanus\n",
      "Processing Record 44| olafsvik\n",
      "City not found. Skipping...\n",
      "City not found. Skipping...\n",
      "City not found. Skipping...\n",
      "Processing Record 45| bandarbeyla\n",
      "Processing Record 46| port hedland\n",
      "Processing Record 47| albany\n",
      "Processing Record 48| provideniya\n",
      "Processing Record 49| vanersborg\n",
      "Processing Record 50| khatanga\n",
      "Processing Record 51| hobart\n",
      "Processing Record 52| elko\n",
      "Processing Record 53| playas\n",
      "Processing Record 54| manicore\n",
      "Processing Record 55| avarua\n",
      "Processing Record 56| arraial do cabo\n",
      "Processing Record 57| carnarvon\n",
      "Processing Record 58| lebu\n",
      "Processing Record 59| goderich\n",
      "Processing Record 60| chengde\n",
      "Processing Record 61| vanavara\n",
      "Processing Record 62| fairbanks\n",
      "Processing Record 63| athabasca\n",
      "City not found. Skipping...\n",
      "Processing Record 64| richards bay\n",
      "Processing Record 65| kaniama\n",
      "Processing Record 66| sembe\n",
      "Processing Record 67| dikson\n",
      "Processing Record 68| barrow\n",
      "Processing Record 69| kaitangata\n",
      "Processing Record 70| grootfontein\n",
      "Processing Record 71| upernavik\n",
      "Processing Record 72| torbay\n",
      "Processing Record 73| acapulco\n",
      "Processing Record 74| kloulklubed\n",
      "Processing Record 75| hambantota\n",
      "Processing Record 76| ucluelet\n",
      "Processing Record 77| sambava\n",
      "Processing Record 78| namatanai\n",
      "Processing Record 79| airai\n",
      "Processing Record 80| saskylakh\n",
      "Processing Record 81| sinegorye\n",
      "Processing Record 82| thompson\n",
      "Processing Record 83| faanui\n",
      "Processing Record 84| port elizabeth\n",
      "Processing Record 85| bonavista\n",
      "Processing Record 86| niquelandia\n",
      "Processing Record 87| saurimo\n",
      "Processing Record 88| ponta delgada\n",
      "Processing Record 89| talnakh\n",
      "Processing Record 90| arrifes\n",
      "Processing Record 91| narsaq\n",
      "City not found. Skipping...\n",
      "Processing Record 92| santa maria visitacion\n",
      "Processing Record 93| hithadhoo\n",
      "Processing Record 94| jining\n",
      "Processing Record 95| katsuura\n",
      "Processing Record 96| patacamaya\n",
      "Processing Record 97| imbituba\n",
      "Processing Record 98| saldanha\n",
      "Processing Record 99| mondlo\n",
      "Processing Record 100| teknaf\n",
      "Processing Record 101| east london\n",
      "Processing Record 102| adrar\n",
      "Processing Record 103| bethel\n",
      "Processing Record 104| hilo\n",
      "Processing Record 105| tahta\n",
      "Processing Record 106| saint-philippe\n",
      "Processing Record 107| eureka\n",
      "Processing Record 108| porto-vecchio\n",
      "City not found. Skipping...\n",
      "Processing Record 109| abonnema\n",
      "Processing Record 110| grindavik\n",
      "Processing Record 111| akyab\n",
      "Processing Record 112| fort nelson\n",
      "Processing Record 113| rocha\n",
      "Processing Record 114| tortoli\n",
      "Processing Record 115| souillac\n",
      "Processing Record 116| pacific grove\n",
      "Processing Record 117| najran\n",
      "Processing Record 118| saint george\n",
      "Processing Record 119| kucove\n",
      "Processing Record 120| hanzhong\n",
      "Processing Record 121| bentiu\n",
      "Processing Record 122| wilmington\n",
      "Processing Record 123| hami\n",
      "Processing Record 124| baneh\n",
      "Processing Record 125| saravan\n",
      "Processing Record 126| bambous virieux\n",
      "City not found. Skipping...\n",
      "Processing Record 127| ransang\n",
      "Processing Record 128| cabo san lucas\n",
      "Processing Record 129| lompoc\n",
      "Processing Record 130| govindgarh\n",
      "Processing Record 131| lethem\n",
      "Processing Record 132| atuona\n",
      "Processing Record 133| monrovia\n",
      "Processing Record 134| aripuana\n",
      "Processing Record 135| baherden\n",
      "Processing Record 136| mar del plata\n",
      "Processing Record 137| strezhevoy\n",
      "City not found. Skipping...\n",
      "Processing Record 138| te anau\n",
      "Processing Record 139| linjiang\n",
      "Processing Record 140| bredasdorp\n",
      "Processing Record 141| mahebourg\n",
      "Processing Record 142| mount gambier\n",
      "Processing Record 143| port lincoln\n",
      "Processing Record 144| fort abbas\n",
      "Processing Record 145| tuktoyaktuk\n",
      "Processing Record 146| mitsamiouli\n",
      "Processing Record 147| bonthe\n",
      "Processing Record 148| prince rupert\n",
      "Processing Record 149| biltine\n",
      "Processing Record 150| raudeberg\n",
      "Processing Record 151| tiznit\n",
      "Processing Record 152| castro\n",
      "Processing Record 153| klaksvik\n",
      "Processing Record 154| zhigansk\n",
      "Processing Record 155| pevek\n",
      "Processing Record 156| luderitz\n",
      "Processing Record 157| sindor\n",
      "Processing Record 158| praia da vitoria\n",
      "Processing Record 159| yar-sale\n",
      "Processing Record 160| los llanos de aridane\n",
      "Processing Record 161| deputatskiy\n",
      "Processing Record 162| gbarnga\n",
      "Processing Record 163| lavrentiya\n",
      "Processing Record 164| mogadishu\n",
      "Processing Record 165| bosaso\n",
      "Processing Record 166| dingle\n",
      "Processing Record 167| kismayo\n",
      "Processing Record 168| nenjiang\n",
      "Processing Record 169| richmond hill\n",
      "Processing Record 170| kamenka\n",
      "Processing Record 171| juodupe\n",
      "Processing Record 172| longyearbyen\n",
      "Processing Record 173| quelimane\n",
      "Processing Record 174| hovd\n",
      "Processing Record 175| kapoeta\n",
      "Processing Record 176| port keats\n",
      "Processing Record 177| husavik\n",
      "Processing Record 178| alekseyevsk\n",
      "Processing Record 179| udachnyy\n",
      "Processing Record 180| mayo\n",
      "Processing Record 181| tiksi\n",
      "Processing Record 182| kirakira\n",
      "Processing Record 183| cockburn town\n",
      "Processing Record 184| nishihara\n",
      "Processing Record 185| puerto ayora\n",
      "City not found. Skipping...\n",
      "Processing Record 186| fuerte olimpo\n",
      "City not found. Skipping...\n",
      "Processing Record 187| lisala\n",
      "Processing Record 188| lincoln\n",
      "Processing Record 189| guaraniacu\n",
      "Processing Record 190| kuching\n",
      "Processing Record 191| leningradskiy\n",
      "City not found. Skipping...\n",
      "Processing Record 192| bitung\n",
      "Processing Record 193| lyuban\n",
      "Processing Record 194| sao joao da barra\n",
      "Processing Record 195| kargat\n",
      "Processing Record 196| salalah\n",
      "Processing Record 197| semey\n",
      "Processing Record 198| xai-xai\n",
      "Processing Record 199| bekhtery\n",
      "Processing Record 200| caravelas\n",
      "Processing Record 201| bengkulu\n",
      "Processing Record 202| porto novo\n",
      "Processing Record 203| olenegorsk\n",
      "Processing Record 204| sal rei\n",
      "Processing Record 205| blythe\n",
      "Processing Record 206| altay\n",
      "Processing Record 207| grass valley\n",
      "City not found. Skipping...\n",
      "Processing Record 208| bubaque\n",
      "Processing Record 209| viedma\n",
      "Processing Record 210| vila velha\n",
      "City not found. Skipping...\n",
      "Processing Record 211| hare bay\n",
      "Processing Record 212| gunjur\n",
      "Processing Record 213| osakarovka\n",
      "Processing Record 214| hamilton\n",
      "Processing Record 215| aksu\n",
      "Processing Record 216| opuwo\n",
      "Processing Record 217| xuddur\n",
      "Processing Record 218| u thong\n",
      "Processing Record 219| nome\n",
      "City not found. Skipping...\n",
      "Processing Record 220| alice springs\n",
      "Processing Record 221| muros\n",
      "Processing Record 222| tazovskiy\n",
      "Processing Record 223| san juan\n",
      "Processing Record 224| alofi\n",
      "Processing Record 225| abu kamal\n",
      "Processing Record 226| sangar\n",
      "Processing Record 227| laguna\n",
      "Processing Record 228| owando\n",
      "Processing Record 229| juruti\n",
      "Processing Record 230| esperance\n",
      "Processing Record 231| halifax\n",
      "Processing Record 232| abu samrah\n",
      "Processing Record 233| bud\n",
      "Processing Record 234| isangel\n",
      "Processing Record 235| bluefield\n",
      "City not found. Skipping...\n"
     ]
    },
    {
     "name": "stdout",
     "output_type": "stream",
     "text": [
      "Processing Record 236| loyga\n",
      "Processing Record 237| harper\n",
      "City not found. Skipping...\n",
      "Processing Record 238| asau\n",
      "Processing Record 239| araouane\n",
      "Processing Record 240| beringovskiy\n",
      "Processing Record 241| fernley\n",
      "Processing Record 242| batagay-alyta\n",
      "Processing Record 243| lagoa\n",
      "Processing Record 244| newport\n",
      "Processing Record 245| pozo colorado\n",
      "Processing Record 246| samarinda\n",
      "City not found. Skipping...\n",
      "Processing Record 247| waipawa\n",
      "Processing Record 248| plettenberg bay\n",
      "Processing Record 249| flinders\n",
      "Processing Record 250| clarence town\n",
      "Processing Record 251| san patricio\n",
      "Processing Record 252| aklavik\n",
      "Processing Record 253| kruisfontein\n",
      "Processing Record 254| caska\n",
      "Processing Record 255| hay river\n",
      "Processing Record 256| yumen\n",
      "Processing Record 257| avera\n",
      "Processing Record 258| tupik\n",
      "Processing Record 259| clyde river\n",
      "Processing Record 260| inhambane\n",
      "Processing Record 261| sisimiut\n",
      "Processing Record 262| gweta\n",
      "Processing Record 263| geraldton\n",
      "Processing Record 264| hofn\n",
      "Processing Record 265| cidreira\n",
      "Processing Record 266| livingstone\n",
      "Processing Record 267| tahoua\n",
      "Processing Record 268| zyryanka\n",
      "Processing Record 269| tolstoy-yurt\n",
      "Processing Record 270| soyo\n",
      "Processing Record 271| rundu\n",
      "Processing Record 272| hobyo\n",
      "Processing Record 273| gisors\n",
      "Processing Record 274| tautira\n",
      "Processing Record 275| zelenogorskiy\n",
      "Processing Record 276| haines junction\n",
      "Processing Record 277| clovis\n",
      "Processing Record 278| mackay\n",
      "Processing Record 279| vila\n",
      "Processing Record 280| burnie\n",
      "Processing Record 281| rio hato\n",
      "Processing Record 282| iqaluit\n",
      "Processing Record 283| ishinomaki\n",
      "Processing Record 284| bonfim\n",
      "Processing Record 285| katherine\n",
      "Processing Record 286| dunmore town\n",
      "Processing Record 287| benito juarez\n",
      "Processing Record 288| bose\n",
      "Processing Record 289| whitehorse\n",
      "Processing Record 290| namibe\n",
      "Processing Record 291| natal\n",
      "Processing Record 292| fortuna\n",
      "Processing Record 293| keti bandar\n",
      "Processing Record 294| aranos\n",
      "Processing Record 295| sioux lookout\n",
      "Processing Record 296| bela\n",
      "Processing Record 297| ahipara\n",
      "City not found. Skipping...\n",
      "Processing Record 298| santa rosa\n",
      "Processing Record 299| high level\n",
      "Processing Record 300| mae hong son\n",
      "Processing Record 301| alikalia\n",
      "Processing Record 302| mackenzie\n",
      "Processing Record 303| ayan\n",
      "Processing Record 304| mashhad\n",
      "Processing Record 305| shangrao\n",
      "Processing Record 306| lorengau\n",
      "Processing Record 307| ancud\n",
      "Processing Record 308| kungurtug\n",
      "Processing Record 309| komsomolskiy\n",
      "Processing Record 310| teofilo otoni\n",
      "Processing Record 311| harbour breton\n",
      "Processing Record 312| vao\n",
      "Processing Record 313| hirado\n",
      "Processing Record 314| yerbogachen\n",
      "Processing Record 315| blackwater\n",
      "Processing Record 316| peruibe\n",
      "Processing Record 317| baraki barak\n",
      "Processing Record 318| rairangpur\n",
      "Processing Record 319| asyut\n",
      "Processing Record 320| chapais\n",
      "Processing Record 321| moanda\n",
      "Processing Record 322| saint-augustin\n",
      "City not found. Skipping...\n",
      "Processing Record 323| saint-pierre\n",
      "Processing Record 324| diffa\n",
      "Processing Record 325| byron bay\n",
      "Processing Record 326| wattegama\n",
      "City not found. Skipping...\n",
      "Processing Record 327| ulaanbaatar\n",
      "Processing Record 328| agadez\n",
      "Processing Record 329| burkburnett\n",
      "Processing Record 330| angoram\n",
      "Processing Record 331| victoria\n",
      "Processing Record 332| havoysund\n",
      "Processing Record 333| dalbandin\n",
      "Processing Record 334| pisco\n",
      "Processing Record 335| vorukh\n",
      "Processing Record 336| norman wells\n",
      "Processing Record 337| ambovombe\n",
      "City not found. Skipping...\n",
      "Processing Record 338| vanimo\n",
      "Processing Record 339| ferry pass\n",
      "Processing Record 340| zanjan\n",
      "Processing Record 341| verkhneuralsk\n",
      "Processing Record 342| portadown\n",
      "Processing Record 343| cefalu\n",
      "Processing Record 344| phetchaburi\n",
      "Processing Record 345| sola\n",
      "Processing Record 346| rio gallegos\n",
      "Processing Record 347| xinqing\n",
      "City not found. Skipping...\n",
      "Processing Record 348| ostrovnoy\n",
      "Processing Record 349| santa isabel do rio negro\n",
      "City not found. Skipping...\n",
      "Processing Record 350| abnub\n",
      "Processing Record 351| christchurch\n",
      "Processing Record 352| grand gaube\n",
      "Processing Record 353| khandyga\n",
      "Processing Record 354| sayyan\n",
      "Processing Record 355| yertsevo\n",
      "Processing Record 356| kavaratti\n",
      "Processing Record 357| chatham\n",
      "Processing Record 358| balkhash\n",
      "Processing Record 359| mumford\n",
      "City not found. Skipping...\n",
      "Processing Record 360| mancora\n",
      "Processing Record 361| bairiki\n",
      "Processing Record 362| belaya gora\n",
      "Processing Record 363| skibbereen\n",
      "Processing Record 364| ambilobe\n",
      "City not found. Skipping...\n",
      "City not found. Skipping...\n",
      "Processing Record 365| neiafu\n",
      "Processing Record 366| salinopolis\n",
      "City not found. Skipping...\n",
      "Processing Record 367| prince george\n",
      "Processing Record 368| yulara\n",
      "Processing Record 369| henties bay\n",
      "Processing Record 370| dong hoi\n",
      "Processing Record 371| luancheng\n",
      "Processing Record 372| bachaquero\n",
      "Processing Record 373| kahului\n",
      "City not found. Skipping...\n",
      "Processing Record 374| sao jose da coroa grande\n",
      "Processing Record 375| murray bridge\n",
      "Processing Record 376| prattville\n",
      "Processing Record 377| gizo\n",
      "Processing Record 378| olinda\n",
      "City not found. Skipping...\n",
      "Processing Record 379| uglegorsk\n",
      "Processing Record 380| alyangula\n",
      "Processing Record 381| buchanan\n",
      "Processing Record 382| constantine\n",
      "City not found. Skipping...\n",
      "Processing Record 383| tuskegee\n",
      "Processing Record 384| rockhampton\n",
      "Processing Record 385| platteville\n",
      "Processing Record 386| cooma\n",
      "Processing Record 387| san quintin\n",
      "Processing Record 388| evensk\n",
      "Processing Record 389| gazojak\n",
      "Processing Record 390| abay\n",
      "Processing Record 391| dhidhdhoo\n",
      "Processing Record 392| bakal\n",
      "Processing Record 393| garowe\n",
      "Processing Record 394| angoche\n",
      "Processing Record 395| teya\n",
      "Processing Record 396| seymchan\n",
      "Processing Record 397| barpathar\n",
      "Processing Record 398| san vicente\n",
      "City not found. Skipping...\n",
      "Processing Record 399| nador\n",
      "Processing Record 400| ovalle\n",
      "Processing Record 401| comodoro rivadavia\n",
      "City not found. Skipping...\n",
      "Processing Record 402| pocola\n",
      "Processing Record 403| baykit\n",
      "Processing Record 404| denia\n",
      "Processing Record 405| kholm-zhirkovskiy\n",
      "Processing Record 406| greensburg\n",
      "Processing Record 407| kalangala\n",
      "Processing Record 408| kalmunai\n",
      "Processing Record 409| zheleznodorozhnyy\n",
      "Processing Record 410| margate\n",
      "Processing Record 411| micheweni\n",
      "Processing Record 412| mount isa\n",
      "Processing Record 413| meulaboh\n",
      "Processing Record 414| sobolevo\n",
      "Processing Record 415| neulengbach\n",
      "City not found. Skipping...\n",
      "Processing Record 416| bhanpuri\n",
      "Processing Record 417| marsh harbour\n",
      "Processing Record 418| sorland\n",
      "Processing Record 419| karratha\n",
      "Processing Record 420| san mauro torinese\n",
      "Processing Record 421| asfi\n",
      "City not found. Skipping...\n",
      "Processing Record 422| alekseyevskaya\n",
      "Processing Record 423| nanortalik\n",
      "Processing Record 424| gerede\n",
      "Processing Record 425| korla\n",
      "Processing Record 426| padang\n",
      "Processing Record 427| northwich\n",
      "Processing Record 428| pringsewu\n",
      "Processing Record 429| half moon bay\n",
      "Processing Record 430| kashi\n",
      "Processing Record 431| pitsunda\n",
      "Processing Record 432| borba\n",
      "Processing Record 433| nazarovo\n",
      "Processing Record 434| srednekolymsk\n",
      "Processing Record 435| baruun-urt\n",
      "City not found. Skipping...\n",
      "Processing Record 436| mlonggo\n",
      "Processing Record 437| necochea\n",
      "Processing Record 438| umm lajj\n",
      "Processing Record 439| amot\n",
      "Processing Record 440| baltoji voke\n",
      "Processing Record 441| westport\n",
      "Processing Record 442| palu\n",
      "Processing Record 443| zhicheng\n",
      "Processing Record 444| cherskiy\n",
      "Processing Record 445| milkovo\n",
      "Processing Record 446| chenzhou\n",
      "Processing Record 447| yabrud\n",
      "Processing Record 448| ossora\n",
      "Processing Record 449| astros\n",
      "Processing Record 450| beyneu\n",
      "Processing Record 451| qaqortoq\n",
      "Processing Record 452| sirjan\n",
      "Processing Record 453| otjimbingwe\n",
      "Processing Record 454| aksha\n",
      "Processing Record 455| vostok\n",
      "Processing Record 456| belyye stolby\n",
      "Processing Record 457| prachuap khiri khan\n",
      "Processing Record 458| faya\n",
      "Processing Record 459| chernyshevskiy\n",
      "Processing Record 460| nueva loja\n",
      "Processing Record 461| alta floresta\n",
      "Processing Record 462| balao\n",
      "Processing Record 463| homa bay\n",
      "City not found. Skipping...\n",
      "City not found. Skipping...\n",
      "Processing Record 464| ust-tsilma\n",
      "Processing Record 465| zeya\n",
      "Processing Record 466| sussex\n",
      "Processing Record 467| roma\n",
      "Processing Record 468| panguna\n",
      "Processing Record 469| mocuba\n"
     ]
    },
    {
     "name": "stdout",
     "output_type": "stream",
     "text": [
      "Processing Record 470| sokoni\n",
      "Processing Record 471| bay roberts\n",
      "Processing Record 472| jinchang\n",
      "Processing Record 473| santa maria\n",
      "Processing Record 474| pindiga\n",
      "Processing Record 475| birao\n",
      "Processing Record 476| keuruu\n",
      "Processing Record 477| otacilio costa\n",
      "Processing Record 478| boundiali\n",
      "Processing Record 479| leshukonskoye\n",
      "Processing Record 480| ferkessedougou\n",
      "Processing Record 481| hasaki\n",
      "Processing Record 482| livny\n",
      "Processing Record 483| marsa matruh\n",
      "City not found. Skipping...\n",
      "Processing Record 484| salta\n",
      "Processing Record 485| lasa\n",
      "Processing Record 486| kifri\n",
      "Processing Record 487| moose factory\n",
      "Processing Record 488| boyolangu\n",
      "City not found. Skipping...\n",
      "Processing Record 489| blenheim\n",
      "Processing Record 490| mahina\n",
      "Processing Record 491| washougal\n",
      "Processing Record 492| malpe\n",
      "Processing Record 493| saint-joseph\n",
      "Processing Record 494| sabang\n",
      "Processing Record 495| qasigiannguit\n",
      "Processing Record 496| jumla\n",
      "Processing Record 497| katima mulilo\n",
      "City not found. Skipping...\n",
      "Processing Record 498| havelock\n",
      "Processing Record 499| tual\n",
      "Processing Record 500| bundaberg\n",
      "Processing Record 501| nova aurora\n",
      "Processing Record 502| port macquarie\n",
      "Processing Record 503| potiskum\n",
      "Processing Record 504| houma\n",
      "Processing Record 505| cartagena del chaira\n",
      "Processing Record 506| langevag\n",
      "Processing Record 507| saint anthony\n",
      "Processing Record 508| tabou\n",
      "Processing Record 509| solnechnyy\n",
      "Processing Record 510| cherepovets\n",
      "Processing Record 511| yatou\n",
      "Processing Record 512| iaciara\n",
      "Processing Record 513| arifwala\n",
      "Processing Record 514| beitbridge\n",
      "Processing Record 515| kropotkin\n",
      "Processing Record 516| omsukchan\n",
      "Processing Record 517| kavieng\n",
      "Processing Record 518| mujiayingzi\n",
      "Processing Record 519| channel-port aux basques\n",
      "Processing Record 520| xining\n",
      "Processing Record 521| kushima\n",
      "Processing Record 522| liverpool\n",
      "Processing Record 523| alihe\n",
      "Processing Record 524| tura\n",
      "Processing Record 525| cam ranh\n",
      "Processing Record 526| the valley\n",
      "Processing Record 527| vila franca do campo\n",
      "Processing Record 528| tres lagoas\n",
      "Processing Record 529| kampot\n",
      "Processing Record 530| sakakah\n",
      "Processing Record 531| shiraoi\n",
      "Processing Record 532| bilma\n",
      "Processing Record 533| batetskiy\n",
      "Processing Record 534| bukachacha\n",
      "Processing Record 535| sheregesh\n",
      "Processing Record 536| otradnoye\n",
      "Processing Record 537| nouakchott\n",
      "Processing Record 538| kaitong\n",
      "Processing Record 539| orasje\n",
      "Processing Record 540| paamiut\n",
      "Processing Record 541| karoi\n",
      "Processing Record 542| kieta\n",
      "Processing Record 543| buala\n",
      "Processing Record 544| virden\n"
     ]
    }
   ],
   "source": [
    "api_key = weather_api_key\n",
    "url = \"http://api.openweathermap.org/data/2.5/weather?units=Imperial&APPID=\" + api_key \n",
    "\n",
    "location =[]\n",
    "Lat =[]\n",
    "Lng =[]\n",
    "Max_Temp =[]\n",
    "Humidity =[]\n",
    "Cloudiness =[]\n",
    "Wind_Speed =[]\n",
    "Country=[]\n",
    "Date =[]\n",
    "\n",
    "record =0\n",
    "set_num =1\n",
    "\n",
    "print(f\"Beginning Data Retrieval\")\n",
    "print(f\"-----------------------------\")\n",
    "\n",
    "for city in cities:\n",
    "    try: \n",
    "        response = requests.get(f\"{url}&q={city}\").json() \n",
    "        location.append(response[\"name\"])\n",
    "        Lat.append(response[\"coord\"][\"lat\"])\n",
    "        Lng.append(response[\"coord\"][\"lon\"])\n",
    "        Max_Temp.append(response[\"main\"][\"temp_max\"])\n",
    "        Humidity.append(response[\"main\"][\"humidity\"])\n",
    "        Cloudiness.append(response[\"clouds\"][\"all\"])\n",
    "        Wind_Speed.append(response[\"wind\"][\"speed\"])\n",
    "        Country.append(response[\"sys\"][\"country\"])\n",
    "        Date.append(response[\"dt\"])\n",
    "        print(f\"Processing Record {record}| {city}\")\n",
    "        \n",
    "        record = record +1\n",
    "        \n",
    "    except:\n",
    "        print(\"City not found. Skipping...\")\n",
    "    \n",
    "        "
   ]
  },
  {
   "cell_type": "markdown",
   "metadata": {},
   "source": [
    "### Convert Raw Data to DataFrame\n",
    "* Export the city data into a .csv.\n",
    "* Display the DataFrame"
   ]
  },
  {
   "cell_type": "code",
   "execution_count": 74,
   "metadata": {},
   "outputs": [
    {
     "data": {
      "text/plain": [
       "City          545\n",
       "Lat           545\n",
       "Lng           545\n",
       "Max Temp      545\n",
       "Humidity      545\n",
       "Cloudiness    545\n",
       "Wind_Speed    545\n",
       "Country       545\n",
       "Date          545\n",
       "dtype: int64"
      ]
     },
     "execution_count": 74,
     "metadata": {},
     "output_type": "execute_result"
    }
   ],
   "source": [
    "Weather_df = {\n",
    "    \"City\": location,\n",
    "    \"Lat\": Lat,\n",
    "    \"Lng\":  Lng,\n",
    "    \"Max Temp\": Max_Temp,\n",
    "    \"Humidity\": Humidity,\n",
    "    \"Cloudiness\": Cloudiness,\n",
    "    \"Wind_Speed\": Wind_Speed,\n",
    "    \"Country\":Country,\n",
    "    \"Date\":Date\n",
    "}\n",
    "Weather = pd.DataFrame(Weather_df)\n",
    "Weather.count()\n"
   ]
  },
  {
   "cell_type": "code",
   "execution_count": 75,
   "metadata": {},
   "outputs": [
    {
     "data": {
      "text/html": [
       "<div>\n",
       "<style scoped>\n",
       "    .dataframe tbody tr th:only-of-type {\n",
       "        vertical-align: middle;\n",
       "    }\n",
       "\n",
       "    .dataframe tbody tr th {\n",
       "        vertical-align: top;\n",
       "    }\n",
       "\n",
       "    .dataframe thead th {\n",
       "        text-align: right;\n",
       "    }\n",
       "</style>\n",
       "<table border=\"1\" class=\"dataframe\">\n",
       "  <thead>\n",
       "    <tr style=\"text-align: right;\">\n",
       "      <th></th>\n",
       "      <th>City</th>\n",
       "      <th>Lat</th>\n",
       "      <th>Lng</th>\n",
       "      <th>Max Temp</th>\n",
       "      <th>Humidity</th>\n",
       "      <th>Cloudiness</th>\n",
       "      <th>Wind_Speed</th>\n",
       "      <th>Country</th>\n",
       "      <th>Date</th>\n",
       "    </tr>\n",
       "  </thead>\n",
       "  <tbody>\n",
       "    <tr>\n",
       "      <th>0</th>\n",
       "      <td>Kapaa</td>\n",
       "      <td>22.08</td>\n",
       "      <td>-159.32</td>\n",
       "      <td>82.00</td>\n",
       "      <td>69</td>\n",
       "      <td>90</td>\n",
       "      <td>16.11</td>\n",
       "      <td>US</td>\n",
       "      <td>1595300957</td>\n",
       "    </tr>\n",
       "    <tr>\n",
       "      <th>1</th>\n",
       "      <td>Katangli</td>\n",
       "      <td>51.71</td>\n",
       "      <td>143.23</td>\n",
       "      <td>55.99</td>\n",
       "      <td>88</td>\n",
       "      <td>100</td>\n",
       "      <td>16.44</td>\n",
       "      <td>RU</td>\n",
       "      <td>1595300957</td>\n",
       "    </tr>\n",
       "    <tr>\n",
       "      <th>2</th>\n",
       "      <td>Constitución</td>\n",
       "      <td>-35.33</td>\n",
       "      <td>-72.42</td>\n",
       "      <td>52.14</td>\n",
       "      <td>87</td>\n",
       "      <td>99</td>\n",
       "      <td>12.73</td>\n",
       "      <td>CL</td>\n",
       "      <td>1595300957</td>\n",
       "    </tr>\n",
       "    <tr>\n",
       "      <th>3</th>\n",
       "      <td>Mattru</td>\n",
       "      <td>7.62</td>\n",
       "      <td>-11.83</td>\n",
       "      <td>72.72</td>\n",
       "      <td>98</td>\n",
       "      <td>100</td>\n",
       "      <td>4.21</td>\n",
       "      <td>SL</td>\n",
       "      <td>1595300957</td>\n",
       "    </tr>\n",
       "    <tr>\n",
       "      <th>4</th>\n",
       "      <td>Port Alfred</td>\n",
       "      <td>-33.59</td>\n",
       "      <td>26.89</td>\n",
       "      <td>57.67</td>\n",
       "      <td>68</td>\n",
       "      <td>0</td>\n",
       "      <td>3.60</td>\n",
       "      <td>ZA</td>\n",
       "      <td>1595300957</td>\n",
       "    </tr>\n",
       "  </tbody>\n",
       "</table>\n",
       "</div>"
      ],
      "text/plain": [
       "           City    Lat     Lng  Max Temp  Humidity  Cloudiness  Wind_Speed  \\\n",
       "0         Kapaa  22.08 -159.32     82.00        69          90       16.11   \n",
       "1      Katangli  51.71  143.23     55.99        88         100       16.44   \n",
       "2  Constitución -35.33  -72.42     52.14        87          99       12.73   \n",
       "3        Mattru   7.62  -11.83     72.72        98         100        4.21   \n",
       "4   Port Alfred -33.59   26.89     57.67        68           0        3.60   \n",
       "\n",
       "  Country        Date  \n",
       "0      US  1595300957  \n",
       "1      RU  1595300957  \n",
       "2      CL  1595300957  \n",
       "3      SL  1595300957  \n",
       "4      ZA  1595300957  "
      ]
     },
     "execution_count": 75,
     "metadata": {},
     "output_type": "execute_result"
    }
   ],
   "source": [
    "Weather.head()"
   ]
  },
  {
   "cell_type": "markdown",
   "metadata": {},
   "source": [
    "## Inspect the data and remove the cities where the humidity > 100%.\n",
    "----\n",
    "Skip this step if there are no cities that have humidity > 100%. "
   ]
  },
  {
   "cell_type": "code",
   "execution_count": 76,
   "metadata": {},
   "outputs": [
    {
     "data": {
      "text/html": [
       "<div>\n",
       "<style scoped>\n",
       "    .dataframe tbody tr th:only-of-type {\n",
       "        vertical-align: middle;\n",
       "    }\n",
       "\n",
       "    .dataframe tbody tr th {\n",
       "        vertical-align: top;\n",
       "    }\n",
       "\n",
       "    .dataframe thead th {\n",
       "        text-align: right;\n",
       "    }\n",
       "</style>\n",
       "<table border=\"1\" class=\"dataframe\">\n",
       "  <thead>\n",
       "    <tr style=\"text-align: right;\">\n",
       "      <th></th>\n",
       "      <th>Lat</th>\n",
       "      <th>Lng</th>\n",
       "      <th>Max Temp</th>\n",
       "      <th>Humidity</th>\n",
       "      <th>Cloudiness</th>\n",
       "      <th>Wind_Speed</th>\n",
       "      <th>Date</th>\n",
       "    </tr>\n",
       "  </thead>\n",
       "  <tbody>\n",
       "    <tr>\n",
       "      <th>count</th>\n",
       "      <td>545.000000</td>\n",
       "      <td>545.000000</td>\n",
       "      <td>545.000000</td>\n",
       "      <td>545.000000</td>\n",
       "      <td>545.000000</td>\n",
       "      <td>545.000000</td>\n",
       "      <td>5.450000e+02</td>\n",
       "    </tr>\n",
       "    <tr>\n",
       "      <th>mean</th>\n",
       "      <td>20.531505</td>\n",
       "      <td>22.087761</td>\n",
       "      <td>69.019156</td>\n",
       "      <td>69.177982</td>\n",
       "      <td>51.600000</td>\n",
       "      <td>7.581541</td>\n",
       "      <td>1.595301e+09</td>\n",
       "    </tr>\n",
       "    <tr>\n",
       "      <th>std</th>\n",
       "      <td>33.676368</td>\n",
       "      <td>89.499681</td>\n",
       "      <td>13.255481</td>\n",
       "      <td>21.854622</td>\n",
       "      <td>40.606586</td>\n",
       "      <td>5.158189</td>\n",
       "      <td>7.473696e+01</td>\n",
       "    </tr>\n",
       "    <tr>\n",
       "      <th>min</th>\n",
       "      <td>-54.800000</td>\n",
       "      <td>-175.200000</td>\n",
       "      <td>17.600000</td>\n",
       "      <td>1.000000</td>\n",
       "      <td>0.000000</td>\n",
       "      <td>0.270000</td>\n",
       "      <td>1.595301e+09</td>\n",
       "    </tr>\n",
       "    <tr>\n",
       "      <th>25%</th>\n",
       "      <td>-7.570000</td>\n",
       "      <td>-54.130000</td>\n",
       "      <td>59.000000</td>\n",
       "      <td>56.000000</td>\n",
       "      <td>3.000000</td>\n",
       "      <td>3.440000</td>\n",
       "      <td>1.595301e+09</td>\n",
       "    </tr>\n",
       "    <tr>\n",
       "      <th>50%</th>\n",
       "      <td>27.180000</td>\n",
       "      <td>26.890000</td>\n",
       "      <td>69.800000</td>\n",
       "      <td>75.000000</td>\n",
       "      <td>59.000000</td>\n",
       "      <td>6.640000</td>\n",
       "      <td>1.595301e+09</td>\n",
       "    </tr>\n",
       "    <tr>\n",
       "      <th>75%</th>\n",
       "      <td>49.080000</td>\n",
       "      <td>99.890000</td>\n",
       "      <td>78.800000</td>\n",
       "      <td>86.000000</td>\n",
       "      <td>93.000000</td>\n",
       "      <td>10.290000</td>\n",
       "      <td>1.595301e+09</td>\n",
       "    </tr>\n",
       "    <tr>\n",
       "      <th>max</th>\n",
       "      <td>78.220000</td>\n",
       "      <td>179.320000</td>\n",
       "      <td>104.000000</td>\n",
       "      <td>100.000000</td>\n",
       "      <td>100.000000</td>\n",
       "      <td>28.030000</td>\n",
       "      <td>1.595301e+09</td>\n",
       "    </tr>\n",
       "  </tbody>\n",
       "</table>\n",
       "</div>"
      ],
      "text/plain": [
       "              Lat         Lng    Max Temp    Humidity  Cloudiness  Wind_Speed  \\\n",
       "count  545.000000  545.000000  545.000000  545.000000  545.000000  545.000000   \n",
       "mean    20.531505   22.087761   69.019156   69.177982   51.600000    7.581541   \n",
       "std     33.676368   89.499681   13.255481   21.854622   40.606586    5.158189   \n",
       "min    -54.800000 -175.200000   17.600000    1.000000    0.000000    0.270000   \n",
       "25%     -7.570000  -54.130000   59.000000   56.000000    3.000000    3.440000   \n",
       "50%     27.180000   26.890000   69.800000   75.000000   59.000000    6.640000   \n",
       "75%     49.080000   99.890000   78.800000   86.000000   93.000000   10.290000   \n",
       "max     78.220000  179.320000  104.000000  100.000000  100.000000   28.030000   \n",
       "\n",
       "               Date  \n",
       "count  5.450000e+02  \n",
       "mean   1.595301e+09  \n",
       "std    7.473696e+01  \n",
       "min    1.595301e+09  \n",
       "25%    1.595301e+09  \n",
       "50%    1.595301e+09  \n",
       "75%    1.595301e+09  \n",
       "max    1.595301e+09  "
      ]
     },
     "execution_count": 76,
     "metadata": {},
     "output_type": "execute_result"
    }
   ],
   "source": [
    "#the max humidity is 100\n",
    "Weather.describe()"
   ]
  },
  {
   "cell_type": "code",
   "execution_count": null,
   "metadata": {},
   "outputs": [],
   "source": [
    "#  Get the indices of cities that have humidity over 100%.\n"
   ]
  },
  {
   "cell_type": "code",
   "execution_count": 8,
   "metadata": {},
   "outputs": [
    {
     "data": {
      "text/html": [
       "<div>\n",
       "<style scoped>\n",
       "    .dataframe tbody tr th:only-of-type {\n",
       "        vertical-align: middle;\n",
       "    }\n",
       "\n",
       "    .dataframe tbody tr th {\n",
       "        vertical-align: top;\n",
       "    }\n",
       "\n",
       "    .dataframe thead th {\n",
       "        text-align: right;\n",
       "    }\n",
       "</style>\n",
       "<table border=\"1\" class=\"dataframe\">\n",
       "  <thead>\n",
       "    <tr style=\"text-align: right;\">\n",
       "      <th></th>\n",
       "      <th>City</th>\n",
       "      <th>Lat</th>\n",
       "      <th>Lng</th>\n",
       "      <th>Max Temp</th>\n",
       "      <th>Humidity</th>\n",
       "      <th>Cloudiness</th>\n",
       "      <th>Wind Speed</th>\n",
       "      <th>Country</th>\n",
       "      <th>Date</th>\n",
       "    </tr>\n",
       "  </thead>\n",
       "  <tbody>\n",
       "    <tr>\n",
       "      <th>0</th>\n",
       "      <td>pimentel</td>\n",
       "      <td>-6.84</td>\n",
       "      <td>-79.93</td>\n",
       "      <td>66.20</td>\n",
       "      <td>29</td>\n",
       "      <td>75</td>\n",
       "      <td>5.82</td>\n",
       "      <td>PE</td>\n",
       "      <td>1585764415</td>\n",
       "    </tr>\n",
       "    <tr>\n",
       "      <th>1</th>\n",
       "      <td>victoria</td>\n",
       "      <td>22.29</td>\n",
       "      <td>114.16</td>\n",
       "      <td>69.01</td>\n",
       "      <td>88</td>\n",
       "      <td>40</td>\n",
       "      <td>18.34</td>\n",
       "      <td>HK</td>\n",
       "      <td>1585764288</td>\n",
       "    </tr>\n",
       "    <tr>\n",
       "      <th>2</th>\n",
       "      <td>padang</td>\n",
       "      <td>-0.95</td>\n",
       "      <td>100.35</td>\n",
       "      <td>79.90</td>\n",
       "      <td>75</td>\n",
       "      <td>99</td>\n",
       "      <td>1.63</td>\n",
       "      <td>ID</td>\n",
       "      <td>1585764115</td>\n",
       "    </tr>\n",
       "    <tr>\n",
       "      <th>3</th>\n",
       "      <td>hasaki</td>\n",
       "      <td>35.73</td>\n",
       "      <td>140.83</td>\n",
       "      <td>55.00</td>\n",
       "      <td>100</td>\n",
       "      <td>75</td>\n",
       "      <td>4.70</td>\n",
       "      <td>JP</td>\n",
       "      <td>1585764415</td>\n",
       "    </tr>\n",
       "    <tr>\n",
       "      <th>4</th>\n",
       "      <td>kahului</td>\n",
       "      <td>20.89</td>\n",
       "      <td>-156.47</td>\n",
       "      <td>70.00</td>\n",
       "      <td>88</td>\n",
       "      <td>1</td>\n",
       "      <td>7.63</td>\n",
       "      <td>US</td>\n",
       "      <td>1585764415</td>\n",
       "    </tr>\n",
       "  </tbody>\n",
       "</table>\n",
       "</div>"
      ],
      "text/plain": [
       "       City    Lat     Lng  Max Temp  Humidity  Cloudiness  Wind Speed  \\\n",
       "0  pimentel  -6.84  -79.93     66.20        29          75        5.82   \n",
       "1  victoria  22.29  114.16     69.01        88          40       18.34   \n",
       "2    padang  -0.95  100.35     79.90        75          99        1.63   \n",
       "3    hasaki  35.73  140.83     55.00       100          75        4.70   \n",
       "4   kahului  20.89 -156.47     70.00        88           1        7.63   \n",
       "\n",
       "  Country        Date  \n",
       "0      PE  1585764415  \n",
       "1      HK  1585764288  \n",
       "2      ID  1585764115  \n",
       "3      JP  1585764415  \n",
       "4      US  1585764415  "
      ]
     },
     "execution_count": 8,
     "metadata": {},
     "output_type": "execute_result"
    }
   ],
   "source": [
    "# Make a new DataFrame equal to the city data to drop all humidity outliers by index.\n",
    "# Passing \"inplace=False\" will make a copy of the city_data DataFrame, which we call \"clean_city_data\".\n"
   ]
  },
  {
   "cell_type": "code",
   "execution_count": 101,
   "metadata": {},
   "outputs": [],
   "source": [
    "# Extract relevant fields from the data frame\n",
    "\n",
    "\n",
    "# Export the City_Data into a csv\n",
    "Weather.to_csv(\"weather.csv\", index=False)"
   ]
  },
  {
   "cell_type": "markdown",
   "metadata": {},
   "source": [
    "## Plotting the Data\n",
    "* Use proper labeling of the plots using plot titles (including date of analysis) and axes labels.\n",
    "* Save the plotted figures as .pngs."
   ]
  },
  {
   "cell_type": "markdown",
   "metadata": {},
   "source": [
    "## Latitude vs. Temperature Plot"
   ]
  },
  {
   "cell_type": "code",
   "execution_count": 65,
   "metadata": {
    "scrolled": true
   },
   "outputs": [
    {
     "data": {
      "image/png": "[encoded data removed]",
      "text/plain": [
       "<Figure size 432x288 with 1 Axes>"
      ]
     },
     "metadata": {
      "needs_background": "light"
     },
     "output_type": "display_data"
    },
    {
     "data": {
      "text/plain": [
       "<Figure size 432x288 with 0 Axes>"
      ]
     },
     "metadata": {},
     "output_type": "display_data"
    }
   ],
   "source": [
    "plt.scatter(Weather[\"Lat\"], Weather[\"Max Temp\"], marker=\"o\", s=10)\n",
    "\n",
    "\n",
    "plt.title(\"City Latitude vs. Max Temperature (04/01/2020)\")\n",
    "plt.ylabel(\"Max. Temperature (F)\")\n",
    "plt.xlabel(\"Latitude\")\n",
    "plt.grid(True)\n",
    "plt.show()\n",
    "plt.savefig(\"Plots/Lat_v_Temp.png\")"
   ]
  },
  {
   "cell_type": "markdown",
   "metadata": {},
   "source": [
    "## Latitude vs. Humidity Plot"
   ]
  },
  {
   "cell_type": "code",
   "execution_count": 66,
   "metadata": {},
   "outputs": [
    {
     "data": {
      "image/png": "[encoded data removed]",
      "text/plain": [
       "<Figure size 432x288 with 1 Axes>"
      ]
     },
     "metadata": {
      "needs_background": "light"
     },
     "output_type": "display_data"
    },
    {
     "data": {
      "text/plain": [
       "<Figure size 432x288 with 0 Axes>"
      ]
     },
     "metadata": {},
     "output_type": "display_data"
    }
   ],
   "source": [
    "plt.scatter(Weather[\"Lat\"], Weather[\"Humidity\"], marker=\"o\", s=10)\n",
    "plt.title(\"City Latitude vs. Humidity (04/01/2020)\")\n",
    "plt.ylabel(\"Humidity (%)\")\n",
    "plt.xlabel(\"Latitude\")\n",
    "plt.grid(True)\n",
    "plt.show()\n",
    "plt.savefig(\"Plots/Lat_v_Humidity.png\")"
   ]
  },
  {
   "cell_type": "markdown",
   "metadata": {},
   "source": [
    "## Latitude vs. Cloudiness Plot"
   ]
  },
  {
   "cell_type": "code",
   "execution_count": 67,
   "metadata": {},
   "outputs": [
    {
     "data": {
      "image/png": "[encoded data removed]",
      "text/plain": [
       "<Figure size 432x288 with 1 Axes>"
      ]
     },
     "metadata": {
      "needs_background": "light"
     },
     "output_type": "display_data"
    },
    {
     "data": {
      "text/plain": [
       "<Figure size 432x288 with 0 Axes>"
      ]
     },
     "metadata": {},
     "output_type": "display_data"
    }
   ],
   "source": [
    "plt.scatter(Weather[\"Lat\"], Weather[\"Cloudiness\"], marker=\"o\", s=10)\n",
    "plt.title(\"City Latitude vs. Cloudiness (04/01/2020)\")\n",
    "plt.ylabel(\"Cloudiness (%)\")\n",
    "plt.xlabel(\"Latitude\")\n",
    "plt.grid(True)\n",
    "plt.show()\n",
    "plt.savefig(\"Plots/Lat_v_Cloudiness.png\")"
   ]
  },
  {
   "cell_type": "markdown",
   "metadata": {},
   "source": [
    "## Latitude vs. Wind Speed Plot"
   ]
  },
  {
   "cell_type": "code",
   "execution_count": 69,
   "metadata": {},
   "outputs": [
    {
     "data": {
      "image/png": "[encoded data removed]",
      "text/plain": [
       "<Figure size 432x288 with 1 Axes>"
      ]
     },
     "metadata": {
      "needs_background": "light"
     },
     "output_type": "display_data"
    },
    {
     "data": {
      "text/plain": [
       "<Figure size 432x288 with 0 Axes>"
      ]
     },
     "metadata": {},
     "output_type": "display_data"
    }
   ],
   "source": [
    "plt.scatter(Weather[\"Lat\"], Weather[\"Wind_Speed\"], marker=\"o\", s=10)\n",
    "plt.title(\"City Latitude vs. Wind Speed (04/01/2020)\")\n",
    "plt.ylabel(\"Wind Speed (mph)\")\n",
    "plt.xlabel(\"Latitude\")\n",
    "plt.grid(True)\n",
    "plt.show()\n",
    "plt.savefig(\"Plots/Lat_v_Wind_Speed.png\")"
   ]
  },
  {
   "cell_type": "markdown",
   "metadata": {},
   "source": [
    "## Linear Regression"
   ]
  },
  {
   "cell_type": "code",
   "execution_count": 14,
   "metadata": {},
   "outputs": [],
   "source": [
    "# OPTIONAL: Create a function to create Linear Regression plots"
   ]
  },
  {
   "cell_type": "code",
   "execution_count": 15,
   "metadata": {},
   "outputs": [],
   "source": [
    "# Create Northern and Southern Hemisphere DataFrames"
   ]
  },
  {
   "cell_type": "markdown",
   "metadata": {},
   "source": [
    "####  Northern Hemisphere - Max Temp vs. Latitude Linear Regression"
   ]
  },
  {
   "cell_type": "code",
   "execution_count": 16,
   "metadata": {},
   "outputs": [
    {
     "name": "stdout",
     "output_type": "stream",
     "text": [
      "The r-squared is: 0.8271188905041935\n"
     ]
    },
    {
     "data": {
      "image/png": "[encoded data removed]",
      "text/plain": [
       "<Figure size 432x288 with 1 Axes>"
      ]
     },
     "metadata": {
      "needs_background": "light"
     },
     "output_type": "display_data"
    }
   ],
   "source": []
  },
  {
   "cell_type": "markdown",
   "metadata": {},
   "source": [
    "####  Southern Hemisphere - Max Temp vs. Latitude Linear Regression"
   ]
  },
  {
   "cell_type": "code",
   "execution_count": 17,
   "metadata": {},
   "outputs": [
    {
     "name": "stdout",
     "output_type": "stream",
     "text": [
      "The r-squared is: 0.39936284758885965\n"
     ]
    },
    {
     "data": {
      "image/png": "[encoded data removed]",
      "text/plain": [
       "<Figure size 432x288 with 1 Axes>"
      ]
     },
     "metadata": {
      "needs_background": "light"
     },
     "output_type": "display_data"
    }
   ],
   "source": []
  },
  {
   "cell_type": "markdown",
   "metadata": {},
   "source": [
    "####  Northern Hemisphere - Humidity (%) vs. Latitude Linear Regression"
   ]
  },
  {
   "cell_type": "code",
   "execution_count": 18,
   "metadata": {},
   "outputs": [
    {
     "name": "stdout",
     "output_type": "stream",
     "text": [
      "The r-squared is: 0.10829462153873139\n"
     ]
    },
    {
     "data": {
      "image/png": "[encoded data removed]",
      "text/plain": [
       "<Figure size 432x288 with 1 Axes>"
      ]
     },
     "metadata": {
      "needs_background": "light"
     },
     "output_type": "display_data"
    }
   ],
   "source": []
  },
  {
   "cell_type": "markdown",
   "metadata": {},
   "source": [
    "####  Southern Hemisphere - Humidity (%) vs. Latitude Linear Regression"
   ]
  },
  {
   "cell_type": "code",
   "execution_count": 19,
   "metadata": {},
   "outputs": [
    {
     "name": "stdout",
     "output_type": "stream",
     "text": [
      "The r-squared is: 0.0008996079328825663\n"
     ]
    },
    {
     "data": {
      "image/png": "[encoded data removed]",
      "text/plain": [
       "<Figure size 432x288 with 1 Axes>"
      ]
     },
     "metadata": {
      "needs_background": "light"
     },
     "output_type": "display_data"
    }
   ],
   "source": []
  },
  {
   "cell_type": "markdown",
   "metadata": {},
   "source": [
    "####  Northern Hemisphere - Cloudiness (%) vs. Latitude Linear Regression"
   ]
  },
  {
   "cell_type": "code",
   "execution_count": 20,
   "metadata": {},
   "outputs": [
    {
     "name": "stdout",
     "output_type": "stream",
     "text": [
      "The r-squared is: 0.05768812657005063\n"
     ]
    },
    {
     "data": {
      "image/png": "[encoded data removed]",
      "text/plain": [
       "<Figure size 432x288 with 1 Axes>"
      ]
     },
     "metadata": {
      "needs_background": "light"
     },
     "output_type": "display_data"
    }
   ],
   "source": []
  },
  {
   "cell_type": "markdown",
   "metadata": {},
   "source": [
    "####  Southern Hemisphere - Cloudiness (%) vs. Latitude Linear Regression"
   ]
  },
  {
   "cell_type": "code",
   "execution_count": 21,
   "metadata": {},
   "outputs": [
    {
     "name": "stdout",
     "output_type": "stream",
     "text": [
      "The r-squared is: 0.0684912094859049\n"
     ]
    },
    {
     "data": {
      "image/png": "[encoded data removed]",
      "text/plain": [
       "<Figure size 432x288 with 1 Axes>"
      ]
     },
     "metadata": {
      "needs_background": "light"
     },
     "output_type": "display_data"
    }
   ],
   "source": []
  },
  {
   "cell_type": "markdown",
   "metadata": {},
   "source": [
    "####  Northern Hemisphere - Wind Speed (mph) vs. Latitude Linear Regression"
   ]
  },
  {
   "cell_type": "code",
   "execution_count": 22,
   "metadata": {},
   "outputs": [
    {
     "name": "stdout",
     "output_type": "stream",
     "text": [
      "The r-squared is: 0.023371104533850804\n"
     ]
    },
    {
     "data": {
      "image/png": "[encoded data removed]",
      "text/plain": [
       "<Figure size 432x288 with 1 Axes>"
      ]
     },
     "metadata": {
      "needs_background": "light"
     },
     "output_type": "display_data"
    }
   ],
   "source": []
  },
  {
   "cell_type": "markdown",
   "metadata": {},
   "source": [
    "####  Southern Hemisphere - Wind Speed (mph) vs. Latitude Linear Regression"
   ]
  },
  {
   "cell_type": "code",
   "execution_count": 23,
   "metadata": {},
   "outputs": [
    {
     "name": "stdout",
     "output_type": "stream",
     "text": [
      "The r-squared is: 0.03381889207758188\n"
     ]
    },
    {
     "data": {
      "image/png": "[encoded data removed]",
      "text/plain": [
       "<Figure size 432x288 with 1 Axes>"
      ]
     },
     "metadata": {
      "needs_background": "light"
     },
     "output_type": "display_data"
    }
   ],
   "source": []
  },
  {
   "cell_type": "code",
   "execution_count": null,
   "metadata": {},
   "outputs": [],
   "source": []
  }
 ],
 "metadata": {
  "anaconda-cloud": {},
  "kernel_info": {
   "name": "python3"
  },
  "kernelspec": {
   "display_name": "Python 3",
   "language": "python",
   "name": "python3"
  },
  "language_info": {
   "codemirror_mode": {
    "name": "ipython",
    "version": 3
   },
   "file_extension": ".py",
   "mimetype": "text/x-python",
   "name": "python",
   "nbconvert_exporter": "python",
   "pygments_lexer": "ipython3",
   "version": "3.7.6"
  },
  "latex_envs": {
   "LaTeX_envs_menu_present": true,
   "autoclose": false,
   "autocomplete": true,
   "bibliofile": "biblio.bib",
   "cite_by": "apalike",
   "current_citInitial": 1,
   "eqLabelWithNumbers": true,
   "eqNumInitial": 1,
   "hotkeys": {
    "equation": "Ctrl-E",
    "itemize": "Ctrl-I"
   },
   "labels_anchors": false,
   "latex_user_defs": false,
   "report_style_numbering": false,
   "user_envs_cfg": false
  },
  "nteract": {
   "version": "0.12.3"
  }
 },
 "nbformat": 4,
 "nbformat_minor": 2
}
